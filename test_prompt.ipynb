{
 "cells": [
  {
   "cell_type": "code",
   "execution_count": null,
   "id": "08363eee-743e-472d-bbca-cf645813bfa4",
   "metadata": {},
   "outputs": [],
   "source": [
    "import time\n",
    "import torch\n",
    "\n",
    "from diffusers import StableDiffusionPipeline, DDIMScheduler"
   ]
  },
  {
   "cell_type": "code",
   "execution_count": null,
   "id": "9e555219-ce1e-44f4-91cb-d97382efe48a",
   "metadata": {},
   "outputs": [],
   "source": [
    "def save_and_display(image, pred_path):\n",
    "    timestr = time.strftime(\"%Y%m%d-%H%M%S\")\n",
    "    image.save(pred_path + \"/\" + timestr + \".png\")\n",
    "    display(image)"
   ]
  },
  {
   "cell_type": "code",
   "execution_count": null,
   "id": "0ba3c2ca-cdde-47a3-810b-53ca8c2b6875",
   "metadata": {},
   "outputs": [],
   "source": [
    "model_path =  \"/home/ubuntu/model\"\n",
    "predict_path = \"/home/ubuntu/predict\"\n",
    "!mkdir -p \"$predict_path\"\n",
    "\n",
    "token_name = \"aabbccddeeffgg\"\n",
    "num_pred_steps = 75\n",
    "guide = 7.5\n",
    "ddim = True\n",
    "\n",
    "if ddim:\n",
    "    ddim_scheduler = DDIMScheduler(\n",
    "            beta_start=0.00085,\n",
    "            beta_end=0.012,\n",
    "            beta_schedule=\"scaled_linear\",\n",
    "            clip_sample=False,\n",
    "            set_alpha_to_one=False,\n",
    "        )\n",
    "\n",
    "    pipe = StableDiffusionPipeline.from_pretrained(\n",
    "        model_path, \n",
    "        torch_dtype=torch.float16,\n",
    "        scheduler=ddim_scheduler,\n",
    "        safety_checker=None).to(\"cuda\")\n",
    "else:\n",
    "    pipe = StableDiffusionPipeline.from_pretrained(\n",
    "        model_path, \n",
    "        torch_dtype=torch.float16,\n",
    "        safety_checker=None).to(\"cuda\")    "
   ]
  },
  {
   "cell_type": "code",
   "execution_count": null,
   "id": "c2fe8f54",
   "metadata": {},
   "outputs": [],
   "source": [
    "prompts = [\n",
    "    \"photo of __token__ __class__ __feature__, astronaut, helmet, oil painting, greg rutkowski\",\n",
    "    \"colorful cinematic still of __token__ __class__ __feature__, armor, cyberpunk, background made of brain cells, back light, organic, art by greg rutkowski, ultrarealistic, leica 30mm\",\n",
    "    \"pencil sketch of __token__ __class__ __feature__ inpired by greg rutkowski, digital art by artgem\",\n",
    "    \"photo, colorful cinematic still of __token__ __class__ __feature__, organic armor, cyberpunk, background brain cells mesh, art by greg rutkowski\",\n",
    "    \"colorful cinematic still of __token__ __class__ __feature__ with long hair, color lights, on stage, ultrarealistic\",\n",
    "    \"photo, colorful cinematic still of __token__ __class__ __feature__ with organic armor, cyberpunk background,  __token__ __class__ __feature__ person, greg rutkowski\",\n",
    "    \"photo of __token__ __class__ __feature__ as firefighter, helmet, ultrarealistic, leica 30mm\",\n",
    "    \"photo of  __token__ __class__ __feature__ as steampunk warrior, neon organic vines, digital painting\",\n",
    "    \"impressionist painting of __token__ __class__ __feature__ by Daniel F Gerhartz, (( __token__ __class__ __feature__ with painted in an impressionist style)), nature, trees\"\n",
    "]"
   ]
  },
  {
   "cell_type": "code",
   "execution_count": null,
   "id": "24372f4d-b650-41d1-8717-c0faf4a5c5fa",
   "metadata": {},
   "outputs": [],
   "source": [
    "feature_str = \", detailed face\"\n",
    "fill_placeholders = lambda x: x.replace(\"__token__\", token_name).replace(\"__class__\", class_str).replace(\"__feature__\", feature_str)\n",
    "for prompt in prompts:\n",
    "    prompt = fill_placeholders(prompt)\n",
    "    image = pipe(prompt, num_inference_steps=num_pred_steps, guidance_scale=guide).images[0]\n",
    "    print(prompt)\n",
    "    save_and_display(image, predict_path)"
   ]
  },
  {
   "cell_type": "code",
   "execution_count": null,
   "id": "6016174c-76d4-4692-891e-db11bb8101ae",
   "metadata": {},
   "outputs": [],
   "source": [
    "feature_str = \", blue Punk Mohawk\"\n",
    "fill_placeholders = lambda x: x.replace(\"__token__\", token_name).replace(\"__class__\", class_str).replace(\"__feature__\", feature_str)\n",
    "for prompt in prompts:\n",
    "    prompt = fill_placeholders(prompt)\n",
    "    image = pipe(prompt, num_inference_steps=num_pred_steps, guidance_scale=guide).images[0]\n",
    "    print(prompt)\n",
    "    save_and_display(image, predict_path)"
   ]
  },
  {
   "cell_type": "code",
   "execution_count": null,
   "id": "0da7cc4e-4a02-43bb-a93e-b67fa7ffb3dd",
   "metadata": {},
   "outputs": [],
   "source": []
  }
 ],
 "metadata": {
  "kernelspec": {
   "display_name": "Python 3",
   "language": "python",
   "name": "python3"
  },
  "language_info": {
   "codemirror_mode": {
    "name": "ipython",
    "version": 3
   },
   "file_extension": ".py",
   "mimetype": "text/x-python",
   "name": "python",
   "nbconvert_exporter": "python",
   "pygments_lexer": "ipython3",
   "version": "3.8.10"
  },
  "vscode": {
   "interpreter": {
    "hash": "e7370f93d1d0cde622a1f8e1c04877d8463912d04d973331ad4851f04de6915a"
   }
  }
 },
 "nbformat": 4,
 "nbformat_minor": 5
}
