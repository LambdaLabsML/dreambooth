{
 "cells": [
  {
   "cell_type": "markdown",
   "id": "6c3b0c09-3348-4b2a-a165-bdd7f2b3f9a4",
   "metadata": {},
   "source": [
    "# Train Your Dreambooth Model"
   ]
  },
  {
   "cell_type": "markdown",
   "id": "2f48ec7a-8118-49d7-b084-4d44812d30a1",
   "metadata": {},
   "source": [
    "## Set up the code"
   ]
  },
  {
   "cell_type": "code",
   "execution_count": 2,
   "id": "c0116679-a734-4d1c-a5a9-adcfc77f821a",
   "metadata": {
    "scrolled": true,
    "tags": []
   },
   "outputs": [
    {
     "name": "stdout",
     "output_type": "stream",
     "text": [
      "M\ttest.ipynb\n",
      "Already on 'neurips'\n",
      "Your branch is up to date with 'origin/neurips'.\n",
      "Defaulting to user installation because normal site-packages is not writeable\n",
      "Requirement already satisfied: pip in /home/ubuntu/.local/lib/python3.8/site-packages (22.3.1)\n",
      "Defaulting to user installation because normal site-packages is not writeable\n",
      "Looking in indexes: https://pypi.org/simple, https://download.pytorch.org/whl/cu116\n",
      "Requirement already satisfied: torch in /home/ubuntu/.local/lib/python3.8/site-packages (1.13.0)\n",
      "Requirement already satisfied: torchvision in /home/ubuntu/.local/lib/python3.8/site-packages (0.14.0)\n",
      "Requirement already satisfied: nvidia-cuda-runtime-cu11==11.7.99 in /home/ubuntu/.local/lib/python3.8/site-packages (from torch) (11.7.99)\n",
      "Requirement already satisfied: nvidia-cublas-cu11==11.10.3.66 in /home/ubuntu/.local/lib/python3.8/site-packages (from torch) (11.10.3.66)\n",
      "Requirement already satisfied: nvidia-cudnn-cu11==8.5.0.96 in /home/ubuntu/.local/lib/python3.8/site-packages (from torch) (8.5.0.96)\n",
      "Requirement already satisfied: nvidia-cuda-nvrtc-cu11==11.7.99 in /home/ubuntu/.local/lib/python3.8/site-packages (from torch) (11.7.99)\n",
      "Requirement already satisfied: typing-extensions in /home/ubuntu/.local/lib/python3.8/site-packages (from torch) (4.4.0)\n",
      "Requirement already satisfied: setuptools in /usr/lib/python3/dist-packages (from nvidia-cublas-cu11==11.10.3.66->torch) (45.2.0)\n",
      "Requirement already satisfied: wheel in /usr/lib/python3/dist-packages (from nvidia-cublas-cu11==11.10.3.66->torch) (0.34.2)\n",
      "Requirement already satisfied: pillow!=8.3.*,>=5.3.0 in /usr/lib/python3/dist-packages (from torchvision) (7.0.0)\n",
      "Requirement already satisfied: requests in /home/ubuntu/.local/lib/python3.8/site-packages (from torchvision) (2.28.1)\n",
      "Requirement already satisfied: numpy in /home/ubuntu/.local/lib/python3.8/site-packages (from torchvision) (1.23.4)\n",
      "Requirement already satisfied: urllib3<1.27,>=1.21.1 in /home/ubuntu/.local/lib/python3.8/site-packages (from requests->torchvision) (1.26.13)\n",
      "Requirement already satisfied: charset-normalizer<3,>=2 in /home/ubuntu/.local/lib/python3.8/site-packages (from requests->torchvision) (2.1.1)\n",
      "Requirement already satisfied: idna<4,>=2.5 in /usr/lib/python3/dist-packages (from requests->torchvision) (2.8)\n",
      "Requirement already satisfied: certifi>=2017.4.17 in /usr/lib/python3/dist-packages (from requests->torchvision) (2019.11.28)\n",
      "Defaulting to user installation because normal site-packages is not writeable\n",
      "Requirement already satisfied: diffusers==0.7.2 in /home/ubuntu/.local/lib/python3.8/site-packages (from -r requirements.txt (line 1)) (0.7.2)\n",
      "Requirement already satisfied: accelerate==0.14.0 in /home/ubuntu/.local/lib/python3.8/site-packages (from -r requirements.txt (line 2)) (0.14.0)\n",
      "Requirement already satisfied: torchvision==0.14.0 in /home/ubuntu/.local/lib/python3.8/site-packages (from -r requirements.txt (line 3)) (0.14.0)\n",
      "Requirement already satisfied: transformers==4.24.0 in /home/ubuntu/.local/lib/python3.8/site-packages (from -r requirements.txt (line 4)) (4.24.0)\n",
      "Requirement already satisfied: ftfy==6.1.1 in /home/ubuntu/.local/lib/python3.8/site-packages (from -r requirements.txt (line 5)) (6.1.1)\n",
      "Requirement already satisfied: tensorboard==2.11.0 in /home/ubuntu/.local/lib/python3.8/site-packages (from -r requirements.txt (line 6)) (2.11.0)\n",
      "Requirement already satisfied: modelcards==0.1.6 in /home/ubuntu/.local/lib/python3.8/site-packages (from -r requirements.txt (line 7)) (0.1.6)\n",
      "Requirement already satisfied: wandb in /home/ubuntu/.local/lib/python3.8/site-packages (from -r requirements.txt (line 8)) (0.13.5)\n",
      "Requirement already satisfied: omegaconf in /home/ubuntu/.local/lib/python3.8/site-packages (from -r requirements.txt (line 9)) (2.2.3)\n",
      "Requirement already satisfied: numpy in /home/ubuntu/.local/lib/python3.8/site-packages (from diffusers==0.7.2->-r requirements.txt (line 1)) (1.23.4)\n",
      "Requirement already satisfied: filelock in /usr/lib/python3/dist-packages (from diffusers==0.7.2->-r requirements.txt (line 1)) (3.0.12)\n",
      "Requirement already satisfied: Pillow<10.0 in /usr/lib/python3/dist-packages (from diffusers==0.7.2->-r requirements.txt (line 1)) (7.0.0)\n",
      "Requirement already satisfied: huggingface-hub>=0.10.0 in /home/ubuntu/.local/lib/python3.8/site-packages (from diffusers==0.7.2->-r requirements.txt (line 1)) (0.11.0)\n",
      "Requirement already satisfied: requests in /home/ubuntu/.local/lib/python3.8/site-packages (from diffusers==0.7.2->-r requirements.txt (line 1)) (2.28.1)\n",
      "Requirement already satisfied: importlib-metadata in /home/ubuntu/.local/lib/python3.8/site-packages (from diffusers==0.7.2->-r requirements.txt (line 1)) (5.0.0)\n",
      "Requirement already satisfied: regex!=2019.12.17 in /home/ubuntu/.local/lib/python3.8/site-packages (from diffusers==0.7.2->-r requirements.txt (line 1)) (2022.10.31)\n",
      "Requirement already satisfied: psutil in /usr/lib/python3/dist-packages (from accelerate==0.14.0->-r requirements.txt (line 2)) (5.5.1)\n",
      "Requirement already satisfied: packaging>=20.0 in /home/ubuntu/.local/lib/python3.8/site-packages (from accelerate==0.14.0->-r requirements.txt (line 2)) (21.3)\n",
      "Requirement already satisfied: pyyaml in /usr/lib/python3/dist-packages (from accelerate==0.14.0->-r requirements.txt (line 2)) (5.3.1)\n",
      "Requirement already satisfied: torch>=1.4.0 in /home/ubuntu/.local/lib/python3.8/site-packages (from accelerate==0.14.0->-r requirements.txt (line 2)) (1.13.0)\n",
      "Requirement already satisfied: typing-extensions in /home/ubuntu/.local/lib/python3.8/site-packages (from torchvision==0.14.0->-r requirements.txt (line 3)) (4.4.0)\n",
      "Requirement already satisfied: tokenizers!=0.11.3,<0.14,>=0.11.1 in /home/ubuntu/.local/lib/python3.8/site-packages (from transformers==4.24.0->-r requirements.txt (line 4)) (0.13.2)\n",
      "Requirement already satisfied: tqdm>=4.27 in /home/ubuntu/.local/lib/python3.8/site-packages (from transformers==4.24.0->-r requirements.txt (line 4)) (4.64.1)\n",
      "Requirement already satisfied: wcwidth>=0.2.5 in /home/ubuntu/.local/lib/python3.8/site-packages (from ftfy==6.1.1->-r requirements.txt (line 5)) (0.2.5)\n",
      "Requirement already satisfied: protobuf<4,>=3.9.2 in /home/ubuntu/.local/lib/python3.8/site-packages (from tensorboard==2.11.0->-r requirements.txt (line 6)) (3.20.3)\n",
      "Requirement already satisfied: werkzeug>=1.0.1 in /home/ubuntu/.local/lib/python3.8/site-packages (from tensorboard==2.11.0->-r requirements.txt (line 6)) (2.2.2)\n",
      "Requirement already satisfied: google-auth-oauthlib<0.5,>=0.4.1 in /usr/lib/python3/dist-packages (from tensorboard==2.11.0->-r requirements.txt (line 6)) (0.4.1)\n",
      "Requirement already satisfied: google-auth<3,>=1.6.3 in /home/ubuntu/.local/lib/python3.8/site-packages (from tensorboard==2.11.0->-r requirements.txt (line 6)) (2.14.1)\n",
      "Requirement already satisfied: setuptools>=41.0.0 in /usr/lib/python3/dist-packages (from tensorboard==2.11.0->-r requirements.txt (line 6)) (45.2.0)\n",
      "Requirement already satisfied: tensorboard-data-server<0.7.0,>=0.6.0 in /home/ubuntu/.local/lib/python3.8/site-packages (from tensorboard==2.11.0->-r requirements.txt (line 6)) (0.6.1)\n",
      "Requirement already satisfied: tensorboard-plugin-wit>=1.6.0 in /home/ubuntu/.local/lib/python3.8/site-packages (from tensorboard==2.11.0->-r requirements.txt (line 6)) (1.8.1)\n",
      "Requirement already satisfied: wheel>=0.26 in /usr/lib/python3/dist-packages (from tensorboard==2.11.0->-r requirements.txt (line 6)) (0.34.2)\n",
      "Requirement already satisfied: grpcio>=1.24.3 in /usr/lib/python3/dist-packages (from tensorboard==2.11.0->-r requirements.txt (line 6)) (1.29.1)\n",
      "Requirement already satisfied: absl-py>=0.4 in /usr/lib/python3/dist-packages (from tensorboard==2.11.0->-r requirements.txt (line 6)) (0.15.0)\n",
      "Requirement already satisfied: markdown>=2.6.8 in /usr/lib/python3/dist-packages (from tensorboard==2.11.0->-r requirements.txt (line 6)) (3.1.1)\n",
      "Requirement already satisfied: Jinja2 in /home/ubuntu/.local/lib/python3.8/site-packages (from modelcards==0.1.6->-r requirements.txt (line 7)) (3.1.2)\n",
      "Requirement already satisfied: nvidia-cudnn-cu11==8.5.0.96 in /home/ubuntu/.local/lib/python3.8/site-packages (from torch>=1.4.0->accelerate==0.14.0->-r requirements.txt (line 2)) (8.5.0.96)\n",
      "Requirement already satisfied: nvidia-cuda-runtime-cu11==11.7.99 in /home/ubuntu/.local/lib/python3.8/site-packages (from torch>=1.4.0->accelerate==0.14.0->-r requirements.txt (line 2)) (11.7.99)\n",
      "Requirement already satisfied: nvidia-cublas-cu11==11.10.3.66 in /home/ubuntu/.local/lib/python3.8/site-packages (from torch>=1.4.0->accelerate==0.14.0->-r requirements.txt (line 2)) (11.10.3.66)\n",
      "Requirement already satisfied: nvidia-cuda-nvrtc-cu11==11.7.99 in /home/ubuntu/.local/lib/python3.8/site-packages (from torch>=1.4.0->accelerate==0.14.0->-r requirements.txt (line 2)) (11.7.99)\n",
      "Requirement already satisfied: shortuuid>=0.5.0 in /home/ubuntu/.local/lib/python3.8/site-packages (from wandb->-r requirements.txt (line 8)) (1.0.11)\n",
      "Requirement already satisfied: promise<3,>=2.0 in /home/ubuntu/.local/lib/python3.8/site-packages (from wandb->-r requirements.txt (line 8)) (2.3)\n",
      "Requirement already satisfied: six>=1.13.0 in /usr/lib/python3/dist-packages (from wandb->-r requirements.txt (line 8)) (1.14.0)\n",
      "Requirement already satisfied: setproctitle in /home/ubuntu/.local/lib/python3.8/site-packages (from wandb->-r requirements.txt (line 8)) (1.3.2)\n",
      "Requirement already satisfied: pathtools in /home/ubuntu/.local/lib/python3.8/site-packages (from wandb->-r requirements.txt (line 8)) (0.1.2)\n",
      "Requirement already satisfied: GitPython>=1.0.0 in /home/ubuntu/.local/lib/python3.8/site-packages (from wandb->-r requirements.txt (line 8)) (3.1.29)\n",
      "Requirement already satisfied: sentry-sdk>=1.0.0 in /home/ubuntu/.local/lib/python3.8/site-packages (from wandb->-r requirements.txt (line 8)) (1.11.1)\n",
      "Requirement already satisfied: docker-pycreds>=0.4.0 in /home/ubuntu/.local/lib/python3.8/site-packages (from wandb->-r requirements.txt (line 8)) (0.4.0)\n",
      "Requirement already satisfied: Click!=8.0.0,>=7.0 in /usr/lib/python3/dist-packages (from wandb->-r requirements.txt (line 8)) (7.0)\n",
      "Requirement already satisfied: antlr4-python3-runtime==4.9.* in /home/ubuntu/.local/lib/python3.8/site-packages (from omegaconf->-r requirements.txt (line 9)) (4.9.3)\n",
      "Requirement already satisfied: gitdb<5,>=4.0.1 in /home/ubuntu/.local/lib/python3.8/site-packages (from GitPython>=1.0.0->wandb->-r requirements.txt (line 8)) (4.0.9)\n",
      "Requirement already satisfied: cachetools<6.0,>=2.0.0 in /usr/lib/python3/dist-packages (from google-auth<3,>=1.6.3->tensorboard==2.11.0->-r requirements.txt (line 6)) (4.0.0)\n",
      "Requirement already satisfied: rsa<5,>=3.1.4 in /usr/lib/python3/dist-packages (from google-auth<3,>=1.6.3->tensorboard==2.11.0->-r requirements.txt (line 6)) (4.0)\n",
      "Requirement already satisfied: pyasn1-modules>=0.2.1 in /usr/lib/python3/dist-packages (from google-auth<3,>=1.6.3->tensorboard==2.11.0->-r requirements.txt (line 6)) (0.2.1)\n",
      "Requirement already satisfied: pyparsing!=3.0.5,>=2.0.2 in /usr/lib/python3/dist-packages (from packaging>=20.0->accelerate==0.14.0->-r requirements.txt (line 2)) (2.4.6)\n",
      "Requirement already satisfied: certifi>=2017.4.17 in /usr/lib/python3/dist-packages (from requests->diffusers==0.7.2->-r requirements.txt (line 1)) (2019.11.28)\n",
      "Requirement already satisfied: urllib3<1.27,>=1.21.1 in /home/ubuntu/.local/lib/python3.8/site-packages (from requests->diffusers==0.7.2->-r requirements.txt (line 1)) (1.26.13)\n",
      "Requirement already satisfied: idna<4,>=2.5 in /usr/lib/python3/dist-packages (from requests->diffusers==0.7.2->-r requirements.txt (line 1)) (2.8)\n",
      "Requirement already satisfied: charset-normalizer<3,>=2 in /home/ubuntu/.local/lib/python3.8/site-packages (from requests->diffusers==0.7.2->-r requirements.txt (line 1)) (2.1.1)\n",
      "Requirement already satisfied: MarkupSafe>=2.1.1 in /home/ubuntu/.local/lib/python3.8/site-packages (from werkzeug>=1.0.1->tensorboard==2.11.0->-r requirements.txt (line 6)) (2.1.1)\n",
      "Requirement already satisfied: zipp>=0.5 in /usr/lib/python3/dist-packages (from importlib-metadata->diffusers==0.7.2->-r requirements.txt (line 1)) (1.0.0)\n",
      "Requirement already satisfied: smmap<6,>=3.0.1 in /home/ubuntu/.local/lib/python3.8/site-packages (from gitdb<5,>=4.0.1->GitPython>=1.0.0->wandb->-r requirements.txt (line 8)) (5.0.0)\n"
     ]
    }
   ],
   "source": [
    "# Make sure you are inside ~/dreambooth\n",
    "!git checkout neurips\n",
    "!pip install --upgrade pip \n",
    "!pip install torch torchvision --extra-index-url https://download.pytorch.org/whl/cu116\n",
    "!pip install -r requirements.txt"
   ]
  },
  {
   "cell_type": "markdown",
   "id": "42535000-1303-47f9-9539-ee6199ead8b0",
   "metadata": {},
   "source": [
    "## Get data \n",
    "\n",
    "TODO: `wget gdrive-url`\n",
    "\n",
    "For now, create a folder at `/home/ubuntu/data` and drag the photos from local machine into it."
   ]
  },
  {
   "cell_type": "code",
   "execution_count": 8,
   "id": "b5463074-274e-41a5-b588-b89cf3be75c1",
   "metadata": {},
   "outputs": [],
   "source": [
    "INPUT_DIR=\"/home/ubuntu/data\"\n",
    "!mkdir -p \"$INPUT_DIR\""
   ]
  },
  {
   "cell_type": "markdown",
   "id": "f02175de-d2c3-4a24-97e3-9aa586a09072",
   "metadata": {},
   "source": [
    "## Accept Model Card License\n",
    "\n",
    "You need to \n",
    "* Create a [huggingface account](https://huggingface.co/) if you don't have one \n",
    "* Create your access token from \"Settings - Access Tokens - New Token\"\n",
    "* Accept the license of [Stable Diffusion v1-4 Model Card](https://huggingface.co/CompVis/stable-diffusion-v1-4) if you agree. (Otherwise can't proceed with to the next step)"
   ]
  },
  {
   "cell_type": "code",
   "execution_count": 4,
   "id": "4e59b275-0249-4cd6-b353-f2d28d37789d",
   "metadata": {},
   "outputs": [
    {
     "name": "stdout",
     "output_type": "stream",
     "text": [
      "Defaulting to user installation because normal site-packages is not writeable\n",
      "Requirement already satisfied: huggingface_hub in /home/ubuntu/.local/lib/python3.8/site-packages (0.11.0)\n",
      "Requirement already satisfied: requests in /home/ubuntu/.local/lib/python3.8/site-packages (from huggingface_hub) (2.28.1)\n",
      "Requirement already satisfied: typing-extensions>=3.7.4.3 in /home/ubuntu/.local/lib/python3.8/site-packages (from huggingface_hub) (4.4.0)\n",
      "Requirement already satisfied: packaging>=20.9 in /home/ubuntu/.local/lib/python3.8/site-packages (from huggingface_hub) (21.3)\n",
      "Requirement already satisfied: tqdm in /home/ubuntu/.local/lib/python3.8/site-packages (from huggingface_hub) (4.64.1)\n",
      "Requirement already satisfied: pyyaml>=5.1 in /usr/lib/python3/dist-packages (from huggingface_hub) (5.3.1)\n",
      "Requirement already satisfied: filelock in /usr/lib/python3/dist-packages (from huggingface_hub) (3.0.12)\n",
      "Requirement already satisfied: pyparsing!=3.0.5,>=2.0.2 in /usr/lib/python3/dist-packages (from packaging>=20.9->huggingface_hub) (2.4.6)\n",
      "Requirement already satisfied: urllib3<1.27,>=1.21.1 in /home/ubuntu/.local/lib/python3.8/site-packages (from requests->huggingface_hub) (1.26.13)\n",
      "Requirement already satisfied: certifi>=2017.4.17 in /usr/lib/python3/dist-packages (from requests->huggingface_hub) (2019.11.28)\n",
      "Requirement already satisfied: charset-normalizer<3,>=2 in /home/ubuntu/.local/lib/python3.8/site-packages (from requests->huggingface_hub) (2.1.1)\n",
      "Requirement already satisfied: idna<4,>=2.5 in /usr/lib/python3/dist-packages (from requests->huggingface_hub) (2.8)\n"
     ]
    },
    {
     "data": {
      "application/vnd.jupyter.widget-view+json": {
       "model_id": "d114d8c5a81b42ac82109dde4e417711",
       "version_major": 2,
       "version_minor": 0
      },
      "text/plain": [
       "VBox(children=(HTML(value='<center> <img\\nsrc=https://huggingface.co/front/assets/huggingface_logo-noborder.sv…"
      ]
     },
     "metadata": {},
     "output_type": "display_data"
    }
   ],
   "source": [
    "!pip install huggingface_hub\n",
    "from huggingface_hub import notebook_login\n",
    "\n",
    "notebook_login()"
   ]
  },
  {
   "cell_type": "code",
   "execution_count": 13,
   "id": "0cde3223-e5b4-42dc-a2d5-bc8de1c12105",
   "metadata": {
    "scrolled": true,
    "tags": []
   },
   "outputs": [
    {
     "name": "stdout",
     "output_type": "stream",
     "text": [
      "--------------------------------------------------------------------------\n",
      "WARNING: No preset parameters were found for the device that Open MPI\n",
      "detected:\n",
      "\n",
      "  Local host:            129-213-82-0\n",
      "  Device name:           mlx5_0\n",
      "  Device vendor ID:      0x02c9\n",
      "  Device vendor part ID: 4126\n",
      "\n",
      "Default device parameters will be used, which may result in lower\n",
      "performance.  You can edit any of the files specified by the\n",
      "btl_openib_device_param_files MCA parameter to set values for your\n",
      "device.\n",
      "\n",
      "NOTE: You can turn off this warning by setting the MCA parameter\n",
      "      btl_openib_warn_no_device_params_found to 0.\n",
      "--------------------------------------------------------------------------\n",
      "--------------------------------------------------------------------------\n",
      "No OpenFabrics connection schemes reported that they were able to be\n",
      "used on a specific port.  As such, the openib BTL (OpenFabrics\n",
      "support) will be disabled for this port.\n",
      "\n",
      "  Local host:           129-213-82-0\n",
      "  Local device:         mlx5_0\n",
      "  Local port:           1\n",
      "  CPCs attempted:       udcm\n",
      "--------------------------------------------------------------------------\n",
      "/home/ubuntu/.local/lib/python3.8/site-packages/pandas/core/computation/expressions.py:20: UserWarning: Pandas requires version '2.7.3' or newer of 'numexpr' (version '2.7.1' currently installed).\n",
      "  from pandas.core.computation.check import NUMEXPR_INSTALLED\n",
      "The following values were not passed to `accelerate launch` and had defaults used instead:\n",
      "\t`--num_processes` was set to a value of `1`\n",
      "\t`--num_machines` was set to a value of `1`\n",
      "\t`--mixed_precision` was set to a value of `'no'`\n",
      "To avoid this warning pass in values for each of the problematic parameters or run `accelerate config`.\n",
      "--------------------------------------------------------------------------\n",
      "WARNING: No preset parameters were found for the device that Open MPI\n",
      "detected:\n",
      "\n",
      "  Local host:            129-213-82-0\n",
      "  Device name:           mlx5_0\n",
      "  Device vendor ID:      0x02c9\n",
      "  Device vendor part ID: 4126\n",
      "\n",
      "Default device parameters will be used, which may result in lower\n",
      "performance.  You can edit any of the files specified by the\n",
      "btl_openib_device_param_files MCA parameter to set values for your\n",
      "device.\n",
      "\n",
      "NOTE: You can turn off this warning by setting the MCA parameter\n",
      "      btl_openib_warn_no_device_params_found to 0.\n",
      "--------------------------------------------------------------------------\n",
      "--------------------------------------------------------------------------\n",
      "No OpenFabrics connection schemes reported that they were able to be\n",
      "used on a specific port.  As such, the openib BTL (OpenFabrics\n",
      "support) will be disabled for this port.\n",
      "\n",
      "  Local host:           129-213-82-0\n",
      "  Local device:         mlx5_0\n",
      "  Local port:           1\n",
      "  CPCs attempted:       udcm\n",
      "--------------------------------------------------------------------------\n",
      "/home/ubuntu/.local/lib/python3.8/site-packages/pandas/core/computation/expressions.py:20: UserWarning: Pandas requires version '2.7.3' or newer of 'numexpr' (version '2.7.1' currently installed).\n",
      "  from pandas.core.computation.check import NUMEXPR_INSTALLED\n",
      "TF32 is on --------------------------------\n",
      "Steps: 100%|████████████████████████████████| 1000/1000 [06:10<00:00,  2.85it/s]\n",
      "Fetching 16 files: 100%|█████████████████████| 16/16 [00:00<00:00, 29576.41it/s]\u001b[A\n",
      "Steps: 100%|████████████████████████████████| 1000/1000 [06:17<00:00,  2.65it/s]\n"
     ]
    }
   ],
   "source": [
    "SD_NAME=\"CompVis/stable-diffusion-v1-4\"\n",
    "TOKEN=\"aabbccddeeffgg\"\n",
    "MODEL_DIR=\"/home/ubuntu/model-aabbccddeeffgg\"\n",
    "PRED_DIR=\"/home/ubuntu/predict\"\n",
    "\n",
    "# 1xA100:\n",
    "BATCH_SIZE=2\n",
    "LR=1e-6\n",
    "\n",
    "!mkdir -p \"$MODEL_DIR\"\n",
    "!mkdir -p \"$PRED_DIR\"\n",
    "\n",
    "!(accelerate launch --gpu_ids 0 \\\n",
    "  train_dreambooth.py \\\n",
    "  --config_file config.yaml \\\n",
    "  learning_rate=\"$LR\" \\\n",
    "  wandb_mode=disabled \\\n",
    "  with_prior_preservation=false \\\n",
    "  instance_str=\"$TOKEN\" \\\n",
    "  instance_data_dir=\"$INPUT_DIR\" \\\n",
    "  output_dir=\"$MODEL_DIR\" \\\n",
    "  max_train_steps=1000 \\\n",
    "  use_tf32=true \\\n",
    ")"
   ]
  },
  {
   "cell_type": "code",
   "execution_count": null,
   "id": "66b0290c-0f25-483e-b061-c62468c4e493",
   "metadata": {},
   "outputs": [],
   "source": []
  }
 ],
 "metadata": {
  "kernelspec": {
   "display_name": "Python 3",
   "language": "python",
   "name": "python3"
  },
  "language_info": {
   "codemirror_mode": {
    "name": "ipython",
    "version": 3
   },
   "file_extension": ".py",
   "mimetype": "text/x-python",
   "name": "python",
   "nbconvert_exporter": "python",
   "pygments_lexer": "ipython3",
   "version": "3.8.10"
  }
 },
 "nbformat": 4,
 "nbformat_minor": 5
}
