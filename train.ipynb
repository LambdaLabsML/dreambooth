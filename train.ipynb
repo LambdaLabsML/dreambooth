{
 "cells": [
  {
   "cell_type": "markdown",
   "id": "6c3b0c09-3348-4b2a-a165-bdd7f2b3f9a4",
   "metadata": {},
   "source": [
    "# Train Your DreamBooth Model"
   ]
  },
  {
   "cell_type": "code",
   "execution_count": null,
   "id": "0cde3223-e5b4-42dc-a2d5-bc8de1c12105",
   "metadata": {
    "scrolled": true,
    "tags": []
   },
   "outputs": [],
   "source": [
    "%cd /home/ubuntu/dreambooth\n",
    "SD_NAME=\"CompVis/stable-diffusion-v1-4\"\n",
    "TOKEN=\"aabbccddeeffgg\"\n",
    "\n",
    "INPUT_DIR=\"/home/ubuntu/data\" # This is the path to input training photos\n",
    "MODEL_DIR=\"/home/ubuntu/model\" # This is the path to save the trained model\n",
    "PRED_DIR=\"/home/ubuntu/output\" # This is the path to save the predicted images\n",
    "!mkdir -p \"$MODEL_DIR\"\n",
    "!mkdir -p \"$PRED_DIR\"\n",
    "!rm -rf \"${INPUT_DIR}/.ipynb_checkpoints\" # Some times notebook saves checkpoints in the data and that causes problems.\n",
    "\n",
    "# 1xA100:\n",
    "BATCH_SIZE=2\n",
    "LR=1e-6\n",
    "MAX_NUM_STEPS=1000"
   ]
  },
  {
   "cell_type": "code",
   "execution_count": null,
   "id": "532fd088-3d76-44bd-872f-5b45233b1a5f",
   "metadata": {},
   "outputs": [],
   "source": [
    "# Run this command to train your DreamBooth Model and generate a few inference results \n",
    "\n",
    "# Training (results will be saved to MODEL_DIR)\n",
    "!(python train_dreambooth.py \\\n",
    "  --config_file config.yaml \\\n",
    "  learning_rate=\"$LR\" \\\n",
    "  wandb_mode=disabled \\\n",
    "  with_prior_preservation=false \\\n",
    "  center_crop=false \\\n",
    "  instance_str=\"$TOKEN\" \\\n",
    "  instance_data_dir=\"$INPUT_DIR\" \\\n",
    "  output_dir=\"$MODEL_DIR\" \\\n",
    "  max_train_steps=\"$MAX_NUM_STEPS\" \\\n",
    "  use_tf32=true \\\n",
    ")\n",
    "\n",
    "# Inference (results will be saved to PRED_DIR)\n",
    "NUM_PRED=2 # number of predictions per prompt\n",
    "!( python test_dreambooth.py \\\n",
    "    --model_path $MODEL_DIR \\\n",
    "    --pred_path $PRED_DIR \\\n",
    "    --num_preds $NUM_PRED \\\n",
    "    --ddim \\\n",
    ")\n",
    "\n",
    "import glob\n",
    "from IPython.display import Image, display\n",
    "for imageName in glob.glob(PRED_DIR +'/*.png'): #assuming JPG\n",
    "    print(imageName)\n",
    "    display(Image(filename=imageName))\n",
    "    "
   ]
  }
 ],
 "metadata": {
  "kernelspec": {
   "display_name": "Python 3.8.10 64-bit",
   "language": "python",
   "name": "python3"
  },
  "language_info": {
   "codemirror_mode": {
    "name": "ipython",
    "version": 3
   },
   "file_extension": ".py",
   "mimetype": "text/x-python",
   "name": "python",
   "nbconvert_exporter": "python",
   "pygments_lexer": "ipython3",
   "version": "3.8.10"
  },
  "vscode": {
   "interpreter": {
    "hash": "e7370f93d1d0cde622a1f8e1c04877d8463912d04d973331ad4851f04de6915a"
   }
  }
 },
 "nbformat": 4,
 "nbformat_minor": 5
}
