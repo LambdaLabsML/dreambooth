{
 "cells": [
  {
   "cell_type": "markdown",
   "id": "6c3b0c09-3348-4b2a-a165-bdd7f2b3f9a4",
   "metadata": {},
   "source": [
    "# Setup"
   ]
  },
  {
   "cell_type": "markdown",
   "id": "2f48ec7a-8118-49d7-b084-4d44812d30a1",
   "metadata": {},
   "source": [
    "## Set up Dreambooth code"
   ]
  },
  {
   "cell_type": "code",
   "execution_count": null,
   "id": "c0116679-a734-4d1c-a5a9-adcfc77f821a",
   "metadata": {
    "scrolled": true,
    "tags": []
   },
   "outputs": [],
   "source": [
    "%cd ~/\n",
    "!git clone https://github.com/LambdaLabsML/dreambooth.git\n",
    "%cd dreambooth\n",
    "!git checkout offsite\n",
    "%cd offsite2023\n",
    "!pip install --upgrade pip \n",
    "!pip install -r requirements.txt"
   ]
  },
  {
   "cell_type": "code",
   "execution_count": null,
   "id": "decffa86-26b9-49cc-9e12-af70063c9b23",
   "metadata": {},
   "outputs": [],
   "source": [
    "# Pre-build xformers wheels (saves you 10 - 60 mins depending on instance type)\n",
    "gpu_name = \"A10\"\n",
    "list_wheels = {\n",
    "    \"A10\": {\n",
    "        \"wheel_filename\": \"xformers-0.0.21+f525106.d20230729-cp38-cp38-linux_x86_64.whl\",\n",
    "        \"gdrive_filename\": \"1gQ93UizqL1V2kDw7HTbey5MSqqrGyo2t\"\n",
    "    },\n",
    "    \"A100_80GB_SXM5\": {\n",
    "        \"wheel_filename\": \"xformers-0.0.21+f525106.d20230729-cp38-cp38-linux_x86_64.whl\",\n",
    "        \"gdrive_filename\": \"1LZEFrQN_BgQ3G52HZcM5CQuZ8CmFgSct\"\n",
    "    },\n",
    "}\n",
    "xformers_gdrive_filename = list_wheels[gpu_name][\"gdrive_filename\"]\n",
    "xformers_wheel_filename = list_wheels[gpu_name][\"wheel_filename\"]\n",
    "!gdown https://drive.google.com/uc?id=\"$xformers_gdrive_filename\""
   ]
  },
  {
   "cell_type": "code",
   "execution_count": 21,
   "id": "7462b20d-5ab1-412b-b1cc-dd70f8028a08",
   "metadata": {},
   "outputs": [
    {
     "name": "stdout",
     "output_type": "stream",
     "text": [
      "Defaulting to user installation because normal site-packages is not writeable\n",
      "Processing ./xformers-0.0.21+f525106.d20230729-cp38-cp38-linux_x86_64.whl\n",
      "Requirement already satisfied: numpy in /home/ubuntu/.local/lib/python3.8/site-packages (from xformers==0.0.21+f525106.d20230729) (1.23.5)\n",
      "Requirement already satisfied: torch>=1.12 in /usr/lib/python3/dist-packages (from xformers==0.0.21+f525106.d20230729) (1.13.1)\n",
      "xformers is already installed with the same version as the provided wheel. Use --force-reinstall to force an installation of the wheel.\n",
      "\u001b[33mDEPRECATION: distro-info 0.23ubuntu1 has a non-standard version number. pip 23.3 will enforce this behaviour change. A possible replacement is to upgrade to a newer version of distro-info or contact the author to suggest that they release a version with a conforming version number. Discussion can be found at https://github.com/pypa/pip/issues/12063\u001b[0m\u001b[33m\n",
      "\u001b[0m\u001b[33mDEPRECATION: python-debian 0.1.36ubuntu1 has a non-standard version number. pip 23.3 will enforce this behaviour change. A possible replacement is to upgrade to a newer version of python-debian or contact the author to suggest that they release a version with a conforming version number. Discussion can be found at https://github.com/pypa/pip/issues/12063\u001b[0m\u001b[33m\n",
      "\u001b[0m\u001b[33mDEPRECATION: tensorflow-gpu 2.11.0 has a non-standard dependency specifier platform_system!=\"Darwin\". pip 23.3 will enforce this behaviour change. A possible replacement is to upgrade to a newer version of tensorflow-gpu or contact the author to suggest that they release a version with a conforming dependency specifiers. Discussion can be found at https://github.com/pypa/pip/issues/12063\u001b[0m\u001b[33m\n",
      "\u001b[0m"
     ]
    }
   ],
   "source": [
    "!pip install \"$xformers_wheel_filename\"\n",
    "%rm \"$xformers_wheel_filename\""
   ]
  },
  {
   "cell_type": "markdown",
   "id": "42535000-1303-47f9-9539-ee6199ead8b0",
   "metadata": {},
   "source": [
    "## Upload data \n",
    "\n",
    "Create a folder at `/home/ubuntu/data` and upload your photos there"
   ]
  },
  {
   "cell_type": "code",
   "execution_count": null,
   "id": "b5463074-274e-41a5-b588-b89cf3be75c1",
   "metadata": {},
   "outputs": [],
   "source": [
    "# Upload your photos into this folder\n",
    "INPUT_DIR=\"/home/ubuntu/data\"\n",
    "!mkdir -p \"$INPUT_DIR\""
   ]
  },
  {
   "cell_type": "markdown",
   "id": "f02175de-d2c3-4a24-97e3-9aa586a09072",
   "metadata": {},
   "source": [
    "## Get Access to The Stable Diffusion Model\n",
    "You need to \n",
    "* Create a [huggingface account](https://huggingface.co/) if you don't have one \n",
    "* Create your access token from \"Settings - Access Tokens - New Token\"\n",
    "* Accept the license of [Stable Diffusion v1-4 Model Card](https://huggingface.co/CompVis/stable-diffusion-v-1-4-original) if you agree. (Otherwise can't proceed with to the next step)e\n",
    "\n",
    "In the rare case of Huggingface model hub is offline (which did happen before), you can download our cache of the model and put it on your instance\n",
    "\n",
    "```\n",
    "cd ~ && \\\n",
    "wget https://lambdalabs-files.s3.us-west-2.amazonaws.com/neurips2022/models--CompVis--stable-diffusion-v1-4.tar.gz && \\\n",
    "tar -xvf models--CompVis--stable-diffusion-v1-4.tar.gz\n",
    "```"
   ]
  },
  {
   "cell_type": "code",
   "execution_count": null,
   "id": "4e59b275-0249-4cd6-b353-f2d28d37789d",
   "metadata": {},
   "outputs": [],
   "source": [
    "!pip install huggingface_hub\n",
    "from huggingface_hub import notebook_login\n",
    "\n",
    "# paste the access token when asked\n",
    "notebook_login()"
   ]
  },
  {
   "cell_type": "code",
   "execution_count": null,
   "id": "72700672-7cf5-4e19-bc8f-57e1b1acd87f",
   "metadata": {},
   "outputs": [],
   "source": []
  }
 ],
 "metadata": {
  "kernelspec": {
   "display_name": "Python 3",
   "language": "python",
   "name": "python3"
  },
  "language_info": {
   "codemirror_mode": {
    "name": "ipython",
    "version": 3
   },
   "file_extension": ".py",
   "mimetype": "text/x-python",
   "name": "python",
   "nbconvert_exporter": "python",
   "pygments_lexer": "ipython3",
   "version": "3.8.10"
  },
  "vscode": {
   "interpreter": {
    "hash": "310a6652984cc220ba45a85b3e1e99b9d088bca0db953de9a88b9a8117b95e4b"
   }
  }
 },
 "nbformat": 4,
 "nbformat_minor": 5
}
