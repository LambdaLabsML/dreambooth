{
 "cells": [
  {
   "cell_type": "markdown",
   "id": "6c3b0c09-3348-4b2a-a165-bdd7f2b3f9a4",
   "metadata": {},
   "source": [
    "# Train Your DreamBooth Model"
   ]
  },
  {
   "cell_type": "code",
   "execution_count": null,
   "id": "0cde3223-e5b4-42dc-a2d5-bc8de1c12105",
   "metadata": {
    "scrolled": true,
    "tags": []
   },
   "outputs": [],
   "source": [
    "%cd /home/ubuntu/dreambooth\n",
    "SD_NAME=\"CompVis/stable-diffusion-v1-4\" # If you downloaded our model cache, then set it to where it is. e.g. \"/home/models--CompVis--stable-diffusion-v1-4/snapshots/114c79c111c5836a89768787ba5b4ceee25bb734\"\n",
    "\n",
    "INPUT_DIR=\"/home/ubuntu/data\" # This is the path to input training photos\n",
    "\n",
    "!rm -rf \"${INPUT_DIR}/.ipynb_checkpoints\" # Some times notebook saves checkpoints in the data and that causes problems."
   ]
  },
  {
   "cell_type": "code",
   "execution_count": null,
   "id": "439a922c-6d87-413d-80d5-e2715a1e8007",
   "metadata": {},
   "outputs": [],
   "source": [
    "TOKEN=\"aabbccddeeffgg\"\n",
    "INSTANCE_PROMPT=\"a photo of \" + TOKEN + \" person\""
   ]
  },
  {
   "cell_type": "code",
   "execution_count": null,
   "id": "532fd088-3d76-44bd-872f-5b45233b1a5f",
   "metadata": {},
   "outputs": [],
   "source": [
    "# memory effeicient attention + fp16\n",
    "# This works on a single A10\n",
    "MODEL_DIR=\"/home/ubuntu/model_mea_fp16\"\n",
    "!mkdir -p \"$MODEL_DIR\"\n",
    "\n",
    "MAX_NUM_STEPS=500\n",
    "BATCH_SIZE=2\n",
    "LR=1e-6\n",
    "RESOLUTION=512\n",
    "\n",
    "!(accelerate launch  --gpu_ids 0 train_dreambooth.py \\\n",
    "  --pretrained_model_name_or_path=$SD_NAME \\\n",
    "  --train_text_encoder \\\n",
    "  --center_crop \\\n",
    "  --instance_data_dir=$INPUT_DIR \\\n",
    "  --output_dir=$MODEL_DIR \\\n",
    "  --instance_prompt=\"$INSTANCE_PROMPT\" \\\n",
    "  --resolution=$RESOLUTION \\\n",
    "  --train_batch_size=$BATCH_SIZE \\\n",
    "  --gradient_checkpointing \\\n",
    "  --learning_rate=$LR \\\n",
    "  --lr_scheduler=\"constant\" \\\n",
    "  --lr_warmup_steps=0 \\\n",
    "  --max_train_steps=$MAX_NUM_STEPS \\\n",
    "  --enable_xformers_memory_efficient_attention \\\n",
    "  --mixed_precision=fp16 \\\n",
    ")\n",
    "    "
   ]
  },
  {
   "cell_type": "code",
   "execution_count": null,
   "id": "6a25d863-20ba-43da-a676-c7a33bef4d5a",
   "metadata": {},
   "outputs": [],
   "source": [
    "# Inference (results will be saved to PRED_DIR)\n",
    "MODEL_DIR=\"/home/ubuntu/model_mea_fp16\"\n",
    "PRED_DIR=\"/home/ubuntu/output_mea_fp16\" # This is the path to save the predicted images\n",
    "!mkdir -p \"$PRED_DIR\"\n",
    "\n",
    "NUM_PRED=1 # number of predictions per prompt\n",
    "!( python test_dreambooth.py \\\n",
    "    --model_path $MODEL_DIR \\\n",
    "    --pred_path $PRED_DIR \\\n",
    "    --num_preds $NUM_PRED \\\n",
    "    --ddim \\\n",
    "    --token $TOKEN \\\n",
    ")\n",
    "\n",
    "import glob\n",
    "from IPython.display import Image, display\n",
    "for imageName in glob.glob(PRED_DIR +'/*.png'):\n",
    "    print(imageName)\n",
    "    display(Image(filename=imageName))"
   ]
  },
  {
   "cell_type": "code",
   "execution_count": null,
   "id": "a194fe49-6272-4baf-9f59-4658cc1a36a6",
   "metadata": {},
   "outputs": [],
   "source": [
    "# Inference (results will be saved to PRED_DIR)\n",
    "MODEL_DIR=\"/home/ubuntu/model_wandb_nsteps\"\n",
    "PRED_DIR=\"/home/ubuntu/output_wandb_nsteps\" # This is the path to save the predicted images\n",
    "!mkdir -p \"$PRED_DIR\"\n",
    "\n",
    "NUM_PRED=1 # number of predictions per prompt\n",
    "!( python test_dreambooth.py \\\n",
    "    --model_path $MODEL_DIR \\\n",
    "    --pred_path $PRED_DIR \\\n",
    "    --num_preds $NUM_PRED \\\n",
    "    --ddim \\\n",
    "    --token $TOKEN \\\n",
    ")\n",
    "\n",
    "import glob\n",
    "from IPython.display import Image, display\n",
    "for imageName in glob.glob(PRED_DIR +'/*.png'):\n",
    "    print(imageName)\n",
    "    display(Image(filename=imageName))"
   ]
  },
  {
   "cell_type": "code",
   "execution_count": null,
   "id": "5b3a9709-b8af-468d-afd1-3046efd7b306",
   "metadata": {},
   "outputs": [],
   "source": []
  }
 ],
 "metadata": {
  "kernelspec": {
   "display_name": "Python 3",
   "language": "python",
   "name": "python3"
  },
  "language_info": {
   "codemirror_mode": {
    "name": "ipython",
    "version": 3
   },
   "file_extension": ".py",
   "mimetype": "text/x-python",
   "name": "python",
   "nbconvert_exporter": "python",
   "pygments_lexer": "ipython3",
   "version": "3.8.10"
  }
 },
 "nbformat": 4,
 "nbformat_minor": 5
}
