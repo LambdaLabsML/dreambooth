{
 "cells": [
  {
   "cell_type": "code",
   "execution_count": null,
   "id": "08363eee-743e-472d-bbca-cf645813bfa4",
   "metadata": {},
   "outputs": [],
   "source": [
    "import time\n",
    "import torch\n",
    "\n",
    "from diffusers import StableDiffusionPipeline, DDIMScheduler"
   ]
  },
  {
   "cell_type": "code",
   "execution_count": null,
   "id": "9e555219-ce1e-44f4-91cb-d97382efe48a",
   "metadata": {},
   "outputs": [],
   "source": [
    "def save_and_display(image, pred_path):\n",
    "    timestr = time.strftime(\"%Y%m%d-%H%M%S\")\n",
    "    image.save(pred_path + \"/\" + timestr + \".png\")\n",
    "    display(image)"
   ]
  },
  {
   "cell_type": "code",
   "execution_count": null,
   "id": "0ba3c2ca-cdde-47a3-810b-53ca8c2b6875",
   "metadata": {},
   "outputs": [],
   "source": [
    "model_path =  \"/home/ubuntu/model\"\n",
    "pred_path = \"/home/ubuntu/predict\"\n",
    "token_name = \"sksbeikkpic\"\n",
    "num_pred_steps = 75\n",
    "guide = 7.5\n",
    "ddim = True\n",
    "\n",
    "if ddim:\n",
    "    ddim_scheduler = DDIMScheduler(\n",
    "            beta_start=0.00085,\n",
    "            beta_end=0.012,\n",
    "            beta_schedule=\"scaled_linear\",\n",
    "            clip_sample=False,\n",
    "            set_alpha_to_one=False,\n",
    "        )\n",
    "\n",
    "    pipe = StableDiffusionPipeline.from_pretrained(\n",
    "        model_path, \n",
    "        torch_dtype=torch.float16,\n",
    "        scheduler=ddim_scheduler,\n",
    "        safety_checker=None).to(\"cuda\")\n",
    "else:\n",
    "    pipe = StableDiffusionPipeline.from_pretrained(\n",
    "        model_path, \n",
    "        torch_dtype=torch.float16,\n",
    "        safety_checker=None).to(\"cuda\")    "
   ]
  },
  {
   "cell_type": "code",
   "execution_count": null,
   "id": "24372f4d-b650-41d1-8717-c0faf4a5c5fa",
   "metadata": {},
   "outputs": [],
   "source": [
    "prompt = \"colorful cinematic portrait of \" + token_name + \" person, armor, cyberpunk,background made of brain cells, back light, organic, art by greg rutkowski, ultrarealistic, leica 30mm\"\n",
    "\n",
    "generator = torch.Generator(device=\"cuda\")\n",
    "seed = generator.seed()\n",
    "generator = generator.manual_seed(seed)\n",
    "\n",
    "width = 512\n",
    "height = 512\n",
    "latents = torch.randn(\n",
    "    (1, pipe.unet.in_channels, height // 8, width // 8),\n",
    "    generator = generator,\n",
    "    device = \"cuda\"\n",
    ").half()\n",
    "\n",
    "image = pipe(prompt, latents = latents, num_inference_steps=num_pred_steps, guidance_scale=guide).images[0]\n",
    "save_and_display(image, pred_path)"
   ]
  },
  {
   "cell_type": "code",
   "execution_count": null,
   "id": "1b0ed8f7-adfa-481f-8419-d7ae9c8a2a82",
   "metadata": {},
   "outputs": [],
   "source": [
    "# Make sure latents are fixed\n",
    "image = pipe(prompt, latents = latents, num_inference_steps=num_pred_steps, guidance_scale=guide).images[0]\n",
    "save_and_display(image, pred_path)"
   ]
  },
  {
   "cell_type": "code",
   "execution_count": null,
   "id": "10250d0d-a41c-4e43-bacb-821730a1e4c6",
   "metadata": {},
   "outputs": [],
   "source": [
    "# less steps\n",
    "image = pipe(prompt, latents = latents, num_inference_steps=25, guidance_scale=guide).images[0]\n",
    "save_and_display(image, pred_path)"
   ]
  },
  {
   "cell_type": "code",
   "execution_count": null,
   "id": "d99678b2-d4a1-48cc-beff-9bfbe0e2a188",
   "metadata": {},
   "outputs": [],
   "source": [
    "# more steps\n",
    "image = pipe(prompt, latents = latents, num_inference_steps=150, guidance_scale=guide).images[0]\n",
    "save_and_display(image, pred_path)"
   ]
  },
  {
   "cell_type": "code",
   "execution_count": null,
   "id": "dce50943-9da6-44eb-afe1-564f458ee1f6",
   "metadata": {},
   "outputs": [],
   "source": [
    "# even more steps\n",
    "image = pipe(prompt, latents = latents, num_inference_steps=300, guidance_scale=guide).images[0]\n",
    "save_and_display(image, pred_path)"
   ]
  },
  {
   "cell_type": "code",
   "execution_count": null,
   "id": "281f3284-3dc0-4c97-acdb-c01f9c336f72",
   "metadata": {},
   "outputs": [],
   "source": [
    "# weaker guide\n",
    "image = pipe(prompt, latents = latents, num_inference_steps=num_pred_steps, guidance_scale=2.5).images[0]\n",
    "save_and_display(image, pred_path)"
   ]
  },
  {
   "cell_type": "code",
   "execution_count": null,
   "id": "a40613b4-46ee-4468-b36b-b88d0ece726c",
   "metadata": {},
   "outputs": [],
   "source": [
    "# stronger guide\n",
    "image = pipe(prompt, latents = latents, num_inference_steps=num_pred_steps, guidance_scale=10).images[0]\n",
    "save_and_display(image, pred_path)"
   ]
  },
  {
   "cell_type": "code",
   "execution_count": null,
   "id": "569a3e55-8965-4ae5-8d46-a2d4f6912327",
   "metadata": {},
   "outputs": [],
   "source": [
    "# stronger guide + more steps\n",
    "image = pipe(prompt, latents = latents, num_inference_steps=300, guidance_scale=10).images[0]\n",
    "save_and_display(image, pred_path)"
   ]
  },
  {
   "cell_type": "code",
   "execution_count": null,
   "id": "f7480f1f-4199-42f7-a89b-897e82c8129e",
   "metadata": {},
   "outputs": [],
   "source": [
    "# No ddim\n",
    "pipe_2 = StableDiffusionPipeline.from_pretrained(\n",
    "    model_path, \n",
    "    torch_dtype=torch.float16,\n",
    "    safety_checker=None).to(\"cuda\")\n",
    "image = pipe_2(prompt, latents = latents, num_inference_steps=300, guidance_scale=10).images[0]\n",
    "save_and_display(image, pred_path)"
   ]
  },
  {
   "cell_type": "code",
   "execution_count": null,
   "id": "3d092204-61d2-46d9-a8cb-eebec898523e",
   "metadata": {},
   "outputs": [],
   "source": [
    "# Negative prompt\n",
    "image = pipe(prompt, negative_prompt=\"glasses\", latents = latents, num_inference_steps=300, guidance_scale=10).images[0]\n",
    "save_and_display(image, pred_path)"
   ]
  },
  {
   "cell_type": "code",
   "execution_count": null,
   "id": "1aacc82b-fc20-4f00-ba4e-12d12a79b4dc",
   "metadata": {},
   "outputs": [],
   "source": [
    "# repeat special token\n",
    "prompt = \"colorful cinematic portrait of \" + token_name + \" person, \" + token_name + \" person, armor, cyberpunk,background made of brain cells, back light, organic, art by greg rutkowski, ultrarealistic, leica 30mm\"\n",
    "\n",
    "image = pipe(prompt, latents = latents, num_inference_steps=300, guidance_scale=10).images[0]\n",
    "save_and_display(image, pred_path)"
   ]
  },
  {
   "cell_type": "code",
   "execution_count": null,
   "id": "6016174c-76d4-4692-891e-db11bb8101ae",
   "metadata": {},
   "outputs": [],
   "source": []
  },
  {
   "cell_type": "code",
   "execution_count": null,
   "id": "0da7cc4e-4a02-43bb-a93e-b67fa7ffb3dd",
   "metadata": {},
   "outputs": [],
   "source": []
  }
 ],
 "metadata": {
  "kernelspec": {
   "display_name": "Python 3",
   "language": "python",
   "name": "python3"
  },
  "language_info": {
   "codemirror_mode": {
    "name": "ipython",
    "version": 3
   },
   "file_extension": ".py",
   "mimetype": "text/x-python",
   "name": "python",
   "nbconvert_exporter": "python",
   "pygments_lexer": "ipython3",
   "version": "3.8.10"
  },
  "vscode": {
   "interpreter": {
    "hash": "e7370f93d1d0cde622a1f8e1c04877d8463912d04d973331ad4851f04de6915a"
   }
  }
 },
 "nbformat": 4,
 "nbformat_minor": 5
}
