{
 "cells": [
  {
   "cell_type": "code",
   "execution_count": null,
   "id": "08363eee-743e-472d-bbca-cf645813bfa4",
   "metadata": {},
   "outputs": [],
   "source": [
    "import time\n",
    "import torch\n",
    "\n",
    "from diffusers import StableDiffusionPipeline, DDIMScheduler"
   ]
  },
  {
   "cell_type": "code",
   "execution_count": null,
   "id": "9e555219-ce1e-44f4-91cb-d97382efe48a",
   "metadata": {},
   "outputs": [],
   "source": [
    "def save_and_display(image, pred_path):\n",
    "    timestr = time.strftime(\"%Y%m%d-%H%M%S\")\n",
    "    image.save(pred_path + \"/\" + timestr + \".png\")\n",
    "    display(image)"
   ]
  },
  {
   "cell_type": "code",
   "execution_count": null,
   "id": "0ba3c2ca-cdde-47a3-810b-53ca8c2b6875",
   "metadata": {},
   "outputs": [],
   "source": [
    "model_path =  \"/home/ubuntu/model\"\n",
    "predict_path = \"/home/ubuntu/predict\"\n",
    "!mkdir -p \"$predict_path\"\n",
    "\n",
    "token_name = \"aabbccddeeffgg\"\n",
    "class_str = \"person\"\n",
    "feature_str = \", detailed face\"\n",
    "\n",
    "num_pred_steps = 75\n",
    "guide = 7.5\n",
    "ddim = True\n",
    "\n",
    "if ddim:\n",
    "    ddim_scheduler = DDIMScheduler(\n",
    "            beta_start=0.00085,\n",
    "            beta_end=0.012,\n",
    "            beta_schedule=\"scaled_linear\",\n",
    "            clip_sample=False,\n",
    "            set_alpha_to_one=False,\n",
    "        )\n",
    "\n",
    "    pipe = StableDiffusionPipeline.from_pretrained(\n",
    "        model_path, \n",
    "        torch_dtype=torch.float16,\n",
    "        scheduler=ddim_scheduler,\n",
    "        safety_checker=None).to(\"cuda\")\n",
    "else:\n",
    "    pipe = StableDiffusionPipeline.from_pretrained(\n",
    "        model_path, \n",
    "        torch_dtype=torch.float16,\n",
    "        safety_checker=None).to(\"cuda\")      "
   ]
  },
  {
   "cell_type": "code",
   "execution_count": null,
   "id": "efdb70e9-a4ef-4661-9628-766bf7f0e7c8",
   "metadata": {},
   "outputs": [],
   "source": [
    "prompt = \"photo of __token__ __class__ __feature__, astronaut, helmet, oil painting, greg rutkowski\"\n",
    "fill_placeholders = lambda x: x.replace(\"__token__\", token_name).replace(\"__class__\", class_str).replace(\"__feature__\", feature_str)\n",
    "prompt = fill_placeholders(prompt)"
   ]
  },
  {
   "cell_type": "code",
   "execution_count": null,
   "id": "24372f4d-b650-41d1-8717-c0faf4a5c5fa",
   "metadata": {},
   "outputs": [],
   "source": [
    "generator = torch.Generator(device=\"cuda\")\n",
    "seed = generator.seed()\n",
    "generator = generator.manual_seed(seed)\n",
    "\n",
    "width = 512\n",
    "height = 512\n",
    "latents = torch.randn(\n",
    "    (1, pipe.unet.in_channels, height // 8, width // 8),\n",
    "    generator = generator,\n",
    "    device = \"cuda\"\n",
    ").half()\n",
    "\n",
    "image = pipe(prompt, latents = latents, num_inference_steps=num_pred_steps, guidance_scale=guide).images[0]\n",
    "print(prompt)\n",
    "save_and_display(image, predict_path)"
   ]
  },
  {
   "cell_type": "code",
   "execution_count": null,
   "id": "10250d0d-a41c-4e43-bacb-821730a1e4c6",
   "metadata": {},
   "outputs": [],
   "source": [
    "# less steps\n",
    "image = pipe(prompt, latents = latents, num_inference_steps=25, guidance_scale=guide).images[0]\n",
    "print(prompt)\n",
    "save_and_display(image, predict_path)"
   ]
  },
  {
   "cell_type": "code",
   "execution_count": null,
   "id": "d99678b2-d4a1-48cc-beff-9bfbe0e2a188",
   "metadata": {},
   "outputs": [],
   "source": [
    "# more steps\n",
    "image = pipe(prompt, latents = latents, num_inference_steps=125, guidance_scale=guide).images[0]\n",
    "print(prompt)\n",
    "save_and_display(image, predict_path)"
   ]
  },
  {
   "cell_type": "code",
   "execution_count": null,
   "id": "dce50943-9da6-44eb-afe1-564f458ee1f6",
   "metadata": {},
   "outputs": [],
   "source": [
    "# even more steps\n",
    "image = pipe(prompt, latents = latents, num_inference_steps=200, guidance_scale=guide).images[0]\n",
    "print(prompt)\n",
    "save_and_display(image, predict_path)"
   ]
  },
  {
   "cell_type": "code",
   "execution_count": null,
   "id": "281f3284-3dc0-4c97-acdb-c01f9c336f72",
   "metadata": {},
   "outputs": [],
   "source": [
    "# weaker guide\n",
    "image = pipe(prompt, latents = latents, num_inference_steps=num_pred_steps, guidance_scale=2.5).images[0]\n",
    "print(prompt)\n",
    "save_and_display(image, predict_path)"
   ]
  },
  {
   "cell_type": "code",
   "execution_count": null,
   "id": "a40613b4-46ee-4468-b36b-b88d0ece726c",
   "metadata": {},
   "outputs": [],
   "source": [
    "# stronger guide\n",
    "image = pipe(prompt, latents = latents, num_inference_steps=num_pred_steps, guidance_scale=15).images[0]\n",
    "print(prompt)\n",
    "save_and_display(image, predict_path)"
   ]
  },
  {
   "cell_type": "code",
   "execution_count": null,
   "id": "569a3e55-8965-4ae5-8d46-a2d4f6912327",
   "metadata": {},
   "outputs": [],
   "source": [
    "# stronger guide + more steps\n",
    "image = pipe(prompt, latents = latents, num_inference_steps=200, guidance_scale=15).images[0]\n",
    "print(prompt)\n",
    "save_and_display(image, predict_path)"
   ]
  },
  {
   "cell_type": "code",
   "execution_count": null,
   "id": "f7480f1f-4199-42f7-a89b-897e82c8129e",
   "metadata": {},
   "outputs": [],
   "source": [
    "# No ddim\n",
    "pipe_2 = StableDiffusionPipeline.from_pretrained(\n",
    "    model_path, \n",
    "    torch_dtype=torch.float16,\n",
    "    safety_checker=None).to(\"cuda\")\n",
    "image = pipe_2(prompt, latents = latents, num_inference_steps=200, guidance_scale=15).images[0]\n",
    "print(prompt)\n",
    "save_and_display(image, predict_path)"
   ]
  },
  {
   "cell_type": "code",
   "execution_count": null,
   "id": "6016174c-76d4-4692-891e-db11bb8101ae",
   "metadata": {},
   "outputs": [],
   "source": []
  },
  {
   "cell_type": "code",
   "execution_count": null,
   "id": "0da7cc4e-4a02-43bb-a93e-b67fa7ffb3dd",
   "metadata": {},
   "outputs": [],
   "source": []
  }
 ],
 "metadata": {
  "kernelspec": {
   "display_name": "Python 3",
   "language": "python",
   "name": "python3"
  },
  "language_info": {
   "codemirror_mode": {
    "name": "ipython",
    "version": 3
   },
   "file_extension": ".py",
   "mimetype": "text/x-python",
   "name": "python",
   "nbconvert_exporter": "python",
   "pygments_lexer": "ipython3",
   "version": "3.8.10"
  },
  "vscode": {
   "interpreter": {
    "hash": "e7370f93d1d0cde622a1f8e1c04877d8463912d04d973331ad4851f04de6915a"
   }
  }
 },
 "nbformat": 4,
 "nbformat_minor": 5
}
