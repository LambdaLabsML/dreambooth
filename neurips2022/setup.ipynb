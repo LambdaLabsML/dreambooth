{
 "cells": [
  {
   "cell_type": "markdown",
   "id": "6c3b0c09-3348-4b2a-a165-bdd7f2b3f9a4",
   "metadata": {},
   "source": [
    "# Setup"
   ]
  },
  {
   "cell_type": "markdown",
   "id": "2f48ec7a-8118-49d7-b084-4d44812d30a1",
   "metadata": {},
   "source": [
    "## Set up Dreambooth code"
   ]
  },
  {
   "cell_type": "code",
   "execution_count": null,
   "id": "c0116679-a734-4d1c-a5a9-adcfc77f821a",
   "metadata": {
    "scrolled": true,
    "tags": []
   },
   "outputs": [],
   "source": [
    "%cd ~/\n",
    "!git clone https://github.com/LambdaLabsML/dreambooth.git\n",
    "%cd dreambooth\n",
    "!pip install --upgrade pip \n",
    "!pip install -r requirements.txt"
   ]
  },
  {
   "cell_type": "markdown",
   "id": "42535000-1303-47f9-9539-ee6199ead8b0",
   "metadata": {},
   "source": [
    "## Get data \n",
    "\n",
    "Create a folder at `/home/ubuntu/data` and drag the photos from local machine into it."
   ]
  },
  {
   "cell_type": "code",
   "execution_count": null,
   "id": "b5463074-274e-41a5-b588-b89cf3be75c1",
   "metadata": {},
   "outputs": [],
   "source": [
    "# Upload your photos into this folder\n",
    "INPUT_DIR=\"/home/ubuntu/data\"\n",
    "!mkdir -p \"$INPUT_DIR\""
   ]
  },
  {
   "cell_type": "markdown",
   "id": "f02175de-d2c3-4a24-97e3-9aa586a09072",
   "metadata": {},
   "source": [
    "## Accept Model Card License\n",
    "\n",
    "You need to \n",
    "* Create a [huggingface account](https://huggingface.co/) if you don't have one \n",
    "* Create your access token from \"Settings - Access Tokens - New Token\"\n",
    "* Accept the license of [Stable Diffusion v1-4 Model Card](https://huggingface.co/CompVis/stable-diffusion-v1-4) if you agree. (Otherwise can't proceed with to the next step)"
   ]
  },
  {
   "cell_type": "code",
   "execution_count": null,
   "id": "4e59b275-0249-4cd6-b353-f2d28d37789d",
   "metadata": {},
   "outputs": [],
   "source": [
    "!pip install huggingface_hub\n",
    "from huggingface_hub import notebook_login\n",
    "\n",
    "# paste the access token when asked\n",
    "notebook_login()"
   ]
  }
 ],
 "metadata": {
  "kernelspec": {
   "display_name": "Python 3",
   "language": "python",
   "name": "python3"
  },
  "language_info": {
   "codemirror_mode": {
    "name": "ipython",
    "version": 3
   },
   "file_extension": ".py",
   "mimetype": "text/x-python",
   "name": "python",
   "nbconvert_exporter": "python",
   "pygments_lexer": "ipython3",
   "version": "3.8.10"
  },
  "vscode": {
   "interpreter": {
    "hash": "310a6652984cc220ba45a85b3e1e99b9d088bca0db953de9a88b9a8117b95e4b"
   }
  }
 },
 "nbformat": 4,
 "nbformat_minor": 5
}
