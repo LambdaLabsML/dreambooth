{
 "cells": [
  {
   "cell_type": "code",
   "execution_count": null,
   "id": "08363eee-743e-472d-bbca-cf645813bfa4",
   "metadata": {},
   "outputs": [],
   "source": [
    "import time\n",
    "import torch\n",
    "\n",
    "from diffusers import StableDiffusionPipeline, DDIMScheduler"
   ]
  },
  {
   "cell_type": "code",
   "execution_count": null,
   "id": "9e555219-ce1e-44f4-91cb-d97382efe48a",
   "metadata": {},
   "outputs": [],
   "source": [
    "def save_and_display(image, pred_path):\n",
    "    timestr = time.strftime(\"%Y%m%d-%H%M%S\")\n",
    "    image.save(pred_path + \"/\" + timestr + \".png\")\n",
    "    display(image)"
   ]
  },
  {
   "cell_type": "code",
   "execution_count": null,
   "id": "0ba3c2ca-cdde-47a3-810b-53ca8c2b6875",
   "metadata": {},
   "outputs": [],
   "source": [
    "model_path =  \"/home/ubuntu/model\"\n",
    "predict_path = \"/home/ubuntu/output\"\n",
    "!mkdir -p \"$predict_path\"\n",
    "\n",
    "token_name = \"aabbccddeeffgg\"\n",
    "class_str = \"person\"\n",
    "feature_str = \"\"\n",
    "num_pred_steps = 75\n",
    "guide = 7.5\n",
    "ddim = True\n",
    "\n",
    "if ddim:\n",
    "    ddim_scheduler = DDIMScheduler(\n",
    "            beta_start=0.00085,\n",
    "            beta_end=0.012,\n",
    "            beta_schedule=\"scaled_linear\",\n",
    "            clip_sample=False,\n",
    "            set_alpha_to_one=False,\n",
    "        )\n",
    "\n",
    "    pipe = StableDiffusionPipeline.from_pretrained(\n",
    "        model_path, \n",
    "        torch_dtype=torch.float16,\n",
    "        scheduler=ddim_scheduler,\n",
    "        safety_checker=None).to(\"cuda\")\n",
    "else:\n",
    "    pipe = StableDiffusionPipeline.from_pretrained(\n",
    "        model_path, \n",
    "        torch_dtype=torch.float16,\n",
    "        safety_checker=None).to(\"cuda\")    "
   ]
  },
  {
   "cell_type": "code",
   "execution_count": null,
   "id": "c2fe8f54",
   "metadata": {},
   "outputs": [],
   "source": [
    "prompts = [\n",
    "        \"colorful cinematic still of __token__ __class__ __feature__, armor, visible face, attractive person, cyberpunk,background made of brain cells, back light, organic, art by greg rutkowski, ultrarealistic, leica 30mm\",\n",
    "        \"pencil sketch of  __token__ __class__ __feature__, inpired by greg rutkowski, digital art by artgem\",\n",
    "        \"photo, colorful cinematic still of  __token__ __class__ __feature__, organic armor, cyberpunk, background brain cells mesh, art by greg rutkowski\",\n",
    "        \"astronaut stylized beautiful painting digital artwork of __token__ __class__ __feature__, 4k, octane, trending on art station\",\n",
    "        \"colorful cinematic still of __token__ __class__ __feature__, __token__ __class__ __feature__, with long hair, color lights, on stage, ultrarealistic\",\n",
    "        \"photo, colorful cinematic still of  __token__ __class__ __feature__, with organic armor, cyberpunk background,  __token__ __class__ __feature__, greg rutkowski\",\n",
    "        \"photo of  __token__ __class__ __feature__, astronaut, astronaut, face visible helmet in alien world abstract oil painting, greg rutkowski, detailed face\",\n",
    "        \"photo of  __token__ __class__ __feature__, as firefighter, helmet, ultrarealistic, leica 30mm\",\n",
    "        \"photo of  __token__ __class__ __feature__, as steampunk warrior, neon organic vines, digital painting\",\n",
    "        \"impressionist painting of  __token__ __class__ __feature__, person by Daniel F Gerhartz, (( __token__ __class__ __feature__, with painted in an impressionist style)), nature, trees\",\n",
    "        \"19th century oil portait of __token__ __class__ __feature__, ca. 1927, London National Gallery\",\n",
    "        \"Highly detailed cyberpunk oil pastel drawing of __token__ __class__ __feature__, art by greg rutowski, ultrarealistic, leica 30mm\",\n",
    "        \"20th century oil portrait painting of __token__ __class__ __feature__, as roman emperor wearing a wreath, highly detailed\",\n",
    "        \"digital artwork detailed sketch of __token__ __class__ __feature__, face as a japanese ronin samurai trending on artstation\",\n",
    "        \"19th century pastiche portrait of __token__ __class__ __feature__, as Emperor of France wearing royal regalia, ca. 1928 London National Gallery\",\n",
    "        \"Hand drawn sketch of __token__ __class__ __feature__, portrait from leonardo davinci's The Codex Atlanticus is a 12-volume, ca. 1482, private collection\",\n",
    "        \"Close up detailed portrait 19th century oil Biblical painting of __token__ __class__ __feature__, bringing the 10 commandment tablets down from mount sinai, oil painting\",\n",
    "        \"Highly detailed modern oil painting 20st century of  __token__ __class__ __feature__, oil portrait by wassily kandinsky, Sotheby's\",\n",
    "        \"Time's Person of the Year 1980, magazine cover portrait __token__ __class__ __feature__, co-founder and CEO\",\n",
    "        \"48th President of the United States, __token__ __class__ __feature__, official portrait, The Smithsonian\",\n",
    "        \"highly detailed photocopy of entire 1980 $100 Dollar Bill Currency engraving __token__ __class__ __feature__\",\n",
    "        \"highly detailed photocopy of classified documents showing __token__ __class__ __feature__, of interest. CIA Museum, Langley Virginia.\"\n",
    "]"
   ]
  },
  {
   "cell_type": "code",
   "execution_count": null,
   "id": "5c4d3efc-3df4-4540-84da-bacae7ec9088",
   "metadata": {},
   "outputs": [],
   "source": [
    "# Fixed the latent (you need to re-run this cell to choose a different seed.)\n",
    "seed = 111\n",
    "generator = torch.Generator(device=\"cuda\")\n",
    "generator = generator.manual_seed(seed)\n",
    "\n",
    "width = 512\n",
    "height = 512\n",
    "latents = torch.randn(\n",
    "    (1, pipe.unet.in_channels, height // 8, width // 8),\n",
    "    generator = generator,\n",
    "    device = \"cuda\"\n",
    ").half()"
   ]
  },
  {
   "cell_type": "code",
   "execution_count": null,
   "id": "6a325c88",
   "metadata": {},
   "outputs": [],
   "source": [
    "# No additional feature string\n",
    "feature_str = \"\"\n",
    "fill_placeholders = lambda x: x.replace(\"__token__\", token_name).replace(\"__class__\", class_str).replace(\"__feature__\", feature_str)\n",
    "for prompt in prompts:\n",
    "    prompt = fill_placeholders(prompt)\n",
    "    image = pipe(prompt, num_inference_steps=num_pred_steps, guidance_scale=guide, latents = latents).images[0]\n",
    "    print(prompt)\n",
    "    save_and_display(image, predict_path)"
   ]
  },
  {
   "cell_type": "code",
   "execution_count": null,
   "id": "f7e6e538-a586-43ec-bbe6-f3e9b023024c",
   "metadata": {},
   "outputs": [],
   "source": []
  }
 ],
 "metadata": {
  "kernelspec": {
   "display_name": "Python 3",
   "language": "python",
   "name": "python3"
  },
  "language_info": {
   "codemirror_mode": {
    "name": "ipython",
    "version": 3
   },
   "file_extension": ".py",
   "mimetype": "text/x-python",
   "name": "python",
   "nbconvert_exporter": "python",
   "pygments_lexer": "ipython3",
   "version": "3.8.10"
  },
  "vscode": {
   "interpreter": {
    "hash": "e7370f93d1d0cde622a1f8e1c04877d8463912d04d973331ad4851f04de6915a"
   }
  }
 },
 "nbformat": 4,
 "nbformat_minor": 5
}
